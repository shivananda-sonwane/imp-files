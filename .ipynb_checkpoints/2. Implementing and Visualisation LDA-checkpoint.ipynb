{
 "cells": [
  {
   "cell_type": "markdown",
   "metadata": {},
   "source": [
    "## Linear Discriminant Analysis\n",
    "\n"
   ]
  },
  {
   "cell_type": "code",
   "execution_count": 2,
   "metadata": {},
   "outputs": [],
   "source": [
    "import pandas as pd\n",
    "import seaborn as sns"
   ]
  },
  {
   "cell_type": "code",
   "execution_count": 3,
   "metadata": {},
   "outputs": [],
   "source": [
    "data=pd.read_csv('Iris.csv')"
   ]
  },
  {
   "cell_type": "code",
   "execution_count": 4,
   "metadata": {},
   "outputs": [
    {
     "data": {
      "text/html": [
       "<div>\n",
       "<style scoped>\n",
       "    .dataframe tbody tr th:only-of-type {\n",
       "        vertical-align: middle;\n",
       "    }\n",
       "\n",
       "    .dataframe tbody tr th {\n",
       "        vertical-align: top;\n",
       "    }\n",
       "\n",
       "    .dataframe thead th {\n",
       "        text-align: right;\n",
       "    }\n",
       "</style>\n",
       "<table border=\"1\" class=\"dataframe\">\n",
       "  <thead>\n",
       "    <tr style=\"text-align: right;\">\n",
       "      <th></th>\n",
       "      <th>Id</th>\n",
       "      <th>SepalLengthCm</th>\n",
       "      <th>SepalWidthCm</th>\n",
       "      <th>PetalLengthCm</th>\n",
       "      <th>PetalWidthCm</th>\n",
       "      <th>Species</th>\n",
       "    </tr>\n",
       "  </thead>\n",
       "  <tbody>\n",
       "    <tr>\n",
       "      <th>0</th>\n",
       "      <td>1</td>\n",
       "      <td>5.1</td>\n",
       "      <td>3.5</td>\n",
       "      <td>1.4</td>\n",
       "      <td>0.2</td>\n",
       "      <td>Iris-setosa</td>\n",
       "    </tr>\n",
       "    <tr>\n",
       "      <th>1</th>\n",
       "      <td>2</td>\n",
       "      <td>4.9</td>\n",
       "      <td>3.0</td>\n",
       "      <td>1.4</td>\n",
       "      <td>0.2</td>\n",
       "      <td>Iris-setosa</td>\n",
       "    </tr>\n",
       "    <tr>\n",
       "      <th>2</th>\n",
       "      <td>3</td>\n",
       "      <td>4.7</td>\n",
       "      <td>3.2</td>\n",
       "      <td>1.3</td>\n",
       "      <td>0.2</td>\n",
       "      <td>Iris-setosa</td>\n",
       "    </tr>\n",
       "    <tr>\n",
       "      <th>3</th>\n",
       "      <td>4</td>\n",
       "      <td>4.6</td>\n",
       "      <td>3.1</td>\n",
       "      <td>1.5</td>\n",
       "      <td>0.2</td>\n",
       "      <td>Iris-setosa</td>\n",
       "    </tr>\n",
       "    <tr>\n",
       "      <th>4</th>\n",
       "      <td>5</td>\n",
       "      <td>5.0</td>\n",
       "      <td>3.6</td>\n",
       "      <td>1.4</td>\n",
       "      <td>0.2</td>\n",
       "      <td>Iris-setosa</td>\n",
       "    </tr>\n",
       "  </tbody>\n",
       "</table>\n",
       "</div>"
      ],
      "text/plain": [
       "   Id  SepalLengthCm  SepalWidthCm  PetalLengthCm  PetalWidthCm      Species\n",
       "0   1            5.1           3.5            1.4           0.2  Iris-setosa\n",
       "1   2            4.9           3.0            1.4           0.2  Iris-setosa\n",
       "2   3            4.7           3.2            1.3           0.2  Iris-setosa\n",
       "3   4            4.6           3.1            1.5           0.2  Iris-setosa\n",
       "4   5            5.0           3.6            1.4           0.2  Iris-setosa"
      ]
     },
     "execution_count": 4,
     "metadata": {},
     "output_type": "execute_result"
    }
   ],
   "source": [
    "data.head()"
   ]
  },
  {
   "cell_type": "code",
   "execution_count": 5,
   "metadata": {},
   "outputs": [],
   "source": [
    "data=data.drop('Id',axis=1)"
   ]
  },
  {
   "cell_type": "code",
   "execution_count": 6,
   "metadata": {},
   "outputs": [
    {
     "name": "stdout",
     "output_type": "stream",
     "text": [
      "Shape of X is  (150, 4)\n",
      "Shape of Y is  (150,)\n"
     ]
    }
   ],
   "source": [
    "#Splitting the dependent and independent variables\n",
    "X=data.iloc[:,:-1]\n",
    "Y=data['Species']\n",
    "print(\"Shape of X is \",X.shape)\n",
    "print(\"Shape of Y is \",Y.shape)"
   ]
  },
  {
   "cell_type": "code",
   "execution_count": 14,
   "metadata": {},
   "outputs": [],
   "source": [
    "#LDA\n",
    "\n",
    "from sklearn.discriminant_analysis import LinearDiscriminantAnalysis as LDA\n",
    "\n",
    "lda=LDA(n_components=2)\n",
    "x_lda= lda.fit_transform(X,Y)"
   ]
  },
  {
   "cell_type": "code",
   "execution_count": 15,
   "metadata": {},
   "outputs": [
    {
     "data": {
      "text/plain": [
       "array([[-8.0849532 ,  0.32845422],\n",
       "       [-7.1471629 , -0.75547326],\n",
       "       [-7.51137789, -0.23807832],\n",
       "       [-6.83767561, -0.64288476],\n",
       "       [-8.15781367,  0.54063935],\n",
       "       [-7.72363087,  1.48232345],\n",
       "       [-7.23514662,  0.3771537 ],\n",
       "       [-7.62974497,  0.01667246],\n",
       "       [-6.58274132, -0.98737424],\n",
       "       [-7.36884116, -0.91362729],\n",
       "       [-8.42181434,  0.67622968],\n",
       "       [-7.24739721, -0.08292417],\n",
       "       [-7.35062105, -1.0393597 ],\n",
       "       [-7.59646896, -0.77671553],\n",
       "       [-9.86936588,  1.61486093],\n",
       "       [-9.18033614,  2.75558626],\n",
       "       [-8.59760709,  1.85442217],\n",
       "       [-7.7995682 ,  0.60905468],\n",
       "       [-8.1000091 ,  0.99610981],\n",
       "       [-8.04543611,  1.16244332],\n",
       "       [-7.52046427, -0.156233  ],\n",
       "       [-7.60526378,  1.22757267],\n",
       "       [-8.70408249,  0.89959416],\n",
       "       [-6.26374139,  0.46023935],\n",
       "       [-6.59191505, -0.36199821],\n",
       "       [-6.79210164, -0.93823664],\n",
       "       [-6.84048091,  0.4848487 ],\n",
       "       [-7.948386  ,  0.23871551],\n",
       "       [-8.01209273,  0.11626909],\n",
       "       [-6.85589572, -0.51715236],\n",
       "       [-6.78303525, -0.72933749],\n",
       "       [-7.38668238,  0.59101728],\n",
       "       [-9.16249492,  1.25094169],\n",
       "       [-9.49617185,  1.84989586],\n",
       "       [-7.36884116, -0.91362729],\n",
       "       [-7.9756525 , -0.13519572],\n",
       "       [-8.63115466,  0.4346228 ],\n",
       "       [-7.36884116, -0.91362729],\n",
       "       [-6.95602269, -0.67887846],\n",
       "       [-7.71167183,  0.01995843],\n",
       "       [-7.9361354 ,  0.69879338],\n",
       "       [-5.6690533 , -1.90328976],\n",
       "       [-7.26559733, -0.24793625],\n",
       "       [-6.42449823,  1.26152073],\n",
       "       [-6.88607488,  1.07094506],\n",
       "       [-6.77985104, -0.47815878],\n",
       "       [-8.11232705,  0.78881818],\n",
       "       [-7.21095698, -0.33438897],\n",
       "       [-8.33988749,  0.6729437 ],\n",
       "       [-7.69345171, -0.10577397],\n",
       "       [ 1.45772244,  0.04186554],\n",
       "       [ 1.79768044,  0.48879951],\n",
       "       [ 2.41680973, -0.08234044],\n",
       "       [ 2.26486771, -1.57609174],\n",
       "       [ 2.55339693, -0.46282362],\n",
       "       [ 2.41954768, -0.95728766],\n",
       "       [ 2.44719309,  0.79553574],\n",
       "       [ 0.2160281 , -1.57096512],\n",
       "       [ 1.74591275, -0.80526746],\n",
       "       [ 1.95838993, -0.35044011],\n",
       "       [ 1.19023864, -2.61561292],\n",
       "       [ 1.86140718,  0.32050146],\n",
       "       [ 1.15386577, -2.61693435],\n",
       "       [ 2.65942607, -0.63412155],\n",
       "       [ 0.38024071,  0.09211958],\n",
       "       [ 1.20280815,  0.09561055],\n",
       "       [ 2.7626699 ,  0.03156949],\n",
       "       [ 0.76227692, -1.63917546],\n",
       "       [ 3.50940735, -1.6724835 ],\n",
       "       [ 1.08410216, -1.6100398 ],\n",
       "       [ 3.71895188,  1.03509697],\n",
       "       [ 0.99937   , -0.47902036],\n",
       "       [ 3.83709476, -1.39488292],\n",
       "       [ 2.24344339, -1.41079358],\n",
       "       [ 1.25428429, -0.53276537],\n",
       "       [ 1.43952232, -0.12314653],\n",
       "       [ 2.45921948, -0.91961551],\n",
       "       [ 3.52471481,  0.16379275],\n",
       "       [ 2.58974981, -0.17075771],\n",
       "       [-0.31197324, -1.29978446],\n",
       "       [ 1.10232227, -1.7357722 ],\n",
       "       [ 0.59844322, -1.92334798],\n",
       "       [ 0.89605882, -0.89192518],\n",
       "       [ 4.49567379, -0.87924754],\n",
       "       [ 2.9265236 ,  0.02499754],\n",
       "       [ 2.10119821,  1.18719828],\n",
       "       [ 2.14367532,  0.09713697],\n",
       "       [ 2.48342912, -1.92190266],\n",
       "       [ 1.31792367, -0.15753271],\n",
       "       [ 1.95529307, -1.14514953],\n",
       "       [ 2.38909697, -1.5823776 ],\n",
       "       [ 2.28614469, -0.32562577],\n",
       "       [ 1.26934019, -1.20042096],\n",
       "       [ 0.28888857, -1.78315025],\n",
       "       [ 2.00077969, -0.8969707 ],\n",
       "       [ 1.16910587, -0.52787187],\n",
       "       [ 1.6092782 , -0.46274252],\n",
       "       [ 1.41813799, -0.53933732],\n",
       "       [-0.47271009, -0.78924756],\n",
       "       [ 1.54557146, -0.58518894],\n",
       "       [ 7.85608083,  2.11161905],\n",
       "       [ 5.5156825 , -0.04401811],\n",
       "       [ 6.30499392,  0.46211638],\n",
       "       [ 5.60355888, -0.34236987],\n",
       "       [ 6.86344597,  0.81602566],\n",
       "       [ 7.42481805, -0.1726265 ],\n",
       "       [ 4.68086447, -0.50758694],\n",
       "       [ 6.31374875, -0.96068288],\n",
       "       [ 6.33198886, -1.37715975],\n",
       "       [ 6.87287126,  2.69458147],\n",
       "       [ 4.45364294,  1.33693971],\n",
       "       [ 5.4611095 , -0.21035161],\n",
       "       [ 5.67679825,  0.82435717],\n",
       "       [ 5.97407494, -0.10462115],\n",
       "       [ 6.78782019,  1.5744553 ],\n",
       "       [ 5.82871291,  1.98940576],\n",
       "       [ 5.0664238 , -0.02730214],\n",
       "       [ 6.60847169,  1.7420041 ],\n",
       "       [ 9.18829265, -0.74909806],\n",
       "       [ 4.76573133, -2.14417884],\n",
       "       [ 6.29305487,  1.63373692],\n",
       "       [ 5.37314577,  0.63153087],\n",
       "       [ 7.58557489, -0.97390788],\n",
       "       [ 4.38367513, -0.12213933],\n",
       "       [ 5.73135125,  1.28143515],\n",
       "       [ 5.27583147, -0.0384815 ],\n",
       "       [ 4.0923206 ,  0.18307048],\n",
       "       [ 4.08316687,  0.51770204],\n",
       "       [ 6.53257435,  0.28724638],\n",
       "       [ 4.577648  , -0.84457527],\n",
       "       [ 6.23500611, -0.70621819],\n",
       "       [ 5.21836582,  1.46644917],\n",
       "       [ 6.81795935,  0.56784684],\n",
       "       [ 3.80972091, -0.93451896],\n",
       "       [ 5.09023453, -2.11775698],\n",
       "       [ 6.82119092,  0.85698379],\n",
       "       [ 6.54193229,  2.41858841],\n",
       "       [ 4.99356333,  0.18488299],\n",
       "       [ 3.94659967,  0.60744074],\n",
       "       [ 5.22159002,  1.13613893],\n",
       "       [ 6.67858684,  1.785319  ],\n",
       "       [ 5.13687786,  1.97641389],\n",
       "       [ 5.5156825 , -0.04401811],\n",
       "       [ 6.81196984,  1.44440158],\n",
       "       [ 6.87289126,  2.40383699],\n",
       "       [ 5.67401294,  1.66134615],\n",
       "       [ 5.19712883, -0.36550576],\n",
       "       [ 4.98171163,  0.81297282],\n",
       "       [ 5.90148603,  2.32075134],\n",
       "       [ 4.68400868,  0.32508073]])"
      ]
     },
     "execution_count": 15,
     "metadata": {},
     "output_type": "execute_result"
    }
   ],
   "source": [
    "x_lda"
   ]
  },
  {
   "cell_type": "code",
   "execution_count": 17,
   "metadata": {},
   "outputs": [
    {
     "data": {
      "text/html": [
       "<div>\n",
       "<style scoped>\n",
       "    .dataframe tbody tr th:only-of-type {\n",
       "        vertical-align: middle;\n",
       "    }\n",
       "\n",
       "    .dataframe tbody tr th {\n",
       "        vertical-align: top;\n",
       "    }\n",
       "\n",
       "    .dataframe thead th {\n",
       "        text-align: right;\n",
       "    }\n",
       "</style>\n",
       "<table border=\"1\" class=\"dataframe\">\n",
       "  <thead>\n",
       "    <tr style=\"text-align: right;\">\n",
       "      <th></th>\n",
       "      <th>x_lda1</th>\n",
       "      <th>x_lda2</th>\n",
       "      <th>Species</th>\n",
       "    </tr>\n",
       "  </thead>\n",
       "  <tbody>\n",
       "    <tr>\n",
       "      <th>0</th>\n",
       "      <td>-8.084953</td>\n",
       "      <td>0.328454</td>\n",
       "      <td>Iris-setosa</td>\n",
       "    </tr>\n",
       "    <tr>\n",
       "      <th>1</th>\n",
       "      <td>-7.147163</td>\n",
       "      <td>-0.755473</td>\n",
       "      <td>Iris-setosa</td>\n",
       "    </tr>\n",
       "    <tr>\n",
       "      <th>2</th>\n",
       "      <td>-7.511378</td>\n",
       "      <td>-0.238078</td>\n",
       "      <td>Iris-setosa</td>\n",
       "    </tr>\n",
       "    <tr>\n",
       "      <th>3</th>\n",
       "      <td>-6.837676</td>\n",
       "      <td>-0.642885</td>\n",
       "      <td>Iris-setosa</td>\n",
       "    </tr>\n",
       "    <tr>\n",
       "      <th>4</th>\n",
       "      <td>-8.157814</td>\n",
       "      <td>0.540639</td>\n",
       "      <td>Iris-setosa</td>\n",
       "    </tr>\n",
       "  </tbody>\n",
       "</table>\n",
       "</div>"
      ],
      "text/plain": [
       "     x_lda1    x_lda2      Species\n",
       "0 -8.084953  0.328454  Iris-setosa\n",
       "1 -7.147163 -0.755473  Iris-setosa\n",
       "2 -7.511378 -0.238078  Iris-setosa\n",
       "3 -6.837676 -0.642885  Iris-setosa\n",
       "4 -8.157814  0.540639  Iris-setosa"
      ]
     },
     "execution_count": 17,
     "metadata": {},
     "output_type": "execute_result"
    }
   ],
   "source": [
    "df=pd.DataFrame({'x_lda1': x_lda[:,0], 'x_lda2':x_lda[:,1],'Species':Y })\n",
    "df.head()"
   ]
  },
  {
   "cell_type": "code",
   "execution_count": 18,
   "metadata": {},
   "outputs": [
    {
     "data": {
      "text/plain": [
       "<matplotlib.axes._subplots.AxesSubplot at 0x217e3748548>"
      ]
     },
     "execution_count": 18,
     "metadata": {},
     "output_type": "execute_result"
    },
    {
     "data": {
      "image/png": "[encoded data removed]",
      "text/plain": [
       "<Figure size 432x288 with 1 Axes>"
      ]
     },
     "metadata": {
      "needs_background": "light"
     },
     "output_type": "display_data"
    }
   ],
   "source": [
    "sns.scatterplot(df['x_lda1'],df['x_lda2'],hue=df['Species'])"
   ]
  },
  {
   "cell_type": "code",
   "execution_count": null,
   "metadata": {},
   "outputs": [],
   "source": []
  }
 ],
 "metadata": {
  "kernelspec": {
   "display_name": "Python 3",
   "language": "python",
   "name": "python3"
  },
  "language_info": {
   "codemirror_mode": {
    "name": "ipython",
    "version": 3
   },
   "file_extension": ".py",
   "mimetype": "text/x-python",
   "name": "python",
   "nbconvert_exporter": "python",
   "pygments_lexer": "ipython3",
   "version": "3.7.6"
  }
 },
 "nbformat": 4,
 "nbformat_minor": 4
}
